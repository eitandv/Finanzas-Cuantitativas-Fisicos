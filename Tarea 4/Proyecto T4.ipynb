{
 "cells": [
  {
   "cell_type": "code",
   "execution_count": 1,
   "metadata": {},
   "outputs": [],
   "source": [
    "# Acá van las librerías que vamos a ocupar :)\n",
    "import numpy as np                           # Útil para procesos matemáticos\n",
    "from sympy import *                          # Útil para calcular derivadas  \n",
    "import matplotlib.pyplot as plt              # Plotting \n",
    "from datetime import date as dt              # Para trabajar con fechas y diferencias de fechas \n",
    "from datetime import datetime\n",
    "from dateutil import relativedelta as rd"
   ]
  },
  {
   "attachments": {},
   "cell_type": "markdown",
   "metadata": {},
   "source": [
    "## Proyecto Tarea 4\n",
    "\n",
    "### Parte I\n",
    "\n",
    "El objetivo de esta parte del proyecto es producir un código capaz de determinar la tasa interna de retorno (TIR), la duración y la convexividad de un bono con cupones, con una precisión de al menos 3 cifras significativas. \n",
    "\n",
    "El valor de un bono con cupones viene dado por la siguiente expresión, vista en clases:\n",
    "\n",
    "$$ V(t)=Pe^{-y(T-t)}+\\sum_{j=1}^N C_j e^{-y(t_j-t)}, $$\n",
    "\n",
    "donde $P$ es el monto principal, $T$ es el tiempo final, $t$ es el tiempo actual, C_j es lo pagado por cada cupon, N es el numero de cupones y $t_j$ los tiempos en los que debemos pagar cada cupon e $y$ es el TIR. Podemos expresar $t_j-t=j/A$, dado intervalos de tiempos equitativos. Adémas, diremos que todos los $C_j$ son iguales y estan dados por:\n",
    "\n",
    "$$ C_j=C=\\frac{P r}{A},$$\n",
    "\n",
    "donde $r$ es la taza anual de los cupones y $A$ es 1 o 2 dependiendo de si los cupones son anuales o bianuales, respectivamente. La Duración y la Convexidad vienen dadas por:\n",
    "\n",
    "$$ D=-\\frac{1}{V}\\frac{dV}{dy}, \\qquad C=\\frac{1}{2V}\\frac{d^2V}{dy^2}. $$\n",
    "\n",
    "Calculando, obtenemos:\n",
    "\n",
    "$$ D=\\frac{P}{V}(T-t)e^{-y(T-t)} + \\sum_{j=1}^N\\frac{C_j}{V}(t_j-t)e^{-y(t_j-t)} , $$\n",
    "\n",
    "$$ C=\\frac{P}{2V}(T-t)^2e^{-y(T-t)} + \\sum_{j=1}^N\\frac{C_j}{2V}(t_j-t)^2e^{-y(t_j-t)} . $$\n",
    "\n",
    "Partamos por los inputs. Para la información a recibir para el cálculo no voy a hacer una interfaz esta vez, pero dejo abajo una celda comentada donde se pueden introducir los valores. Razón: más rapido para ambos :P "
   ]
  },
  {
   "cell_type": "code",
   "execution_count": 8,
   "metadata": {},
   "outputs": [],
   "source": [
    "# Partamos definiendo un par de funciones útiles \n",
    "\n",
    "# Función que convierte las fechas a objetos datetime \n",
    "def str_to_dt(date): \n",
    "    date = date.split('-')\n",
    "    return dt(int(date[0]), int(date[1]), int(date[2]))\n",
    "\n",
    "# Función para obtener días entre dos fechas\n",
    "def delta_days(d1,d2):\n",
    "    diff = d1 - d2\n",
    "    return diff.days\n",
    "    \n",
    "# Función que retorna factor de división según tipo de bono\n",
    "def div_factor(tipo_de_bono):\n",
    "    if tipo_de_bono =='a': return 1\n",
    "    elif tipo_de_bono == 'b': return 2\n",
    "    return None\n",
    "\n",
    "# Función porcentage a número (A prueba de ingenieros comerciales)\n",
    "def percent_to_num(percent): return 100*percent # xD\n",
    "\n",
    "# Espacio para ingresar variables \n",
    "# Algunas van dentro de funciones que me entregan un valor trabajable\n",
    "p = 100000000                  # Monto Principal \n",
    "t0 = str_to_dt('2023-6-1')     # Fecha actual (formato: año-mes-día)\n",
    "#t0 = datetime.datetime.now()  # También puedes poner automaticamente hoy descomentando esta linea\n",
    "tf = str_to_dt('2024-6-1')     # Fecha de madurez  (formato: año-mes-día)\n",
    "a_or_b = div_factor('a')       # Cupones anuales (Ingresar 'a') o bi anuales (Ingresar 'b') \n",
    "r = percent_to_num(3)          # Tasa anual de los cupones (en %)\n",
    "v0 = 96000000                  # precio actual del bono\n"
   ]
  },
  {
   "cell_type": "code",
   "execution_count": null,
   "metadata": {},
   "outputs": [],
   "source": [
    "# Calculemos lo que nos piden\n",
    "\n",
    "# Primero definimos la función para el valor del bono\n",
    "def value_b(y, p, t0, tf, a_or_b, r, v0):\n",
    "    dt = int(delta_days(tf,t0)/365)\n",
    "    n_cupones = dt*a_or_b\n",
    "    [(p*r/a_or_b)]\n",
    "    return p*np.e^(-y*dt)+np.sum()\n",
    "\n",
    "def tir(p, t0, tf, a_or_b, r, v0):\n",
    "    ''' La idea de esta función es setear n valores para el TIR entre 1 y 0,\n",
    "        calcular la diferencia del valor del cupon para esos TIRs respecto\n",
    "        al valor deseado, tomar el con menos error y volver a iterar bajo valores\n",
    "        cecanos a este. \n",
    "        '''\n",
    "    y_start = 0.5      # definimos un valor inicial para el TIR\n"
   ]
  }
 ],
 "metadata": {
  "kernelspec": {
   "display_name": "Python 3",
   "language": "python",
   "name": "python3"
  },
  "language_info": {
   "codemirror_mode": {
    "name": "ipython",
    "version": 3
   },
   "file_extension": ".py",
   "mimetype": "text/x-python",
   "name": "python",
   "nbconvert_exporter": "python",
   "pygments_lexer": "ipython3",
   "version": "3.9.6"
  },
  "orig_nbformat": 4
 },
 "nbformat": 4,
 "nbformat_minor": 2
}
