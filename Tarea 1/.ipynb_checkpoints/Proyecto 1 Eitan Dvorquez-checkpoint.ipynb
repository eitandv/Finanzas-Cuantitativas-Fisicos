{
 "cells": [
  {
   "cell_type": "markdown",
   "metadata": {},
   "source": [
    "## Proyecto N°1\n",
    "\n",
    "### Tasas de Interes\n",
    "Debemos generar un programa que reciba una tasa de interes anual, que llamaremos \"$r$\", y que nos permita especificar que tipo de interes queremos. A modo de repaso, los factores de descuento $\\text{DF}=\\tfrac{\\text{PV}}{\\text{FV}}$ para cada uno son: \n",
    "\n",
    "* Simple: $\\text{DF}=\\frac{1}{(1+rt)}$\n",
    "* Compuesto: $\\text{DF}=\\frac{1}{(1+\\frac{r}{p})^{pt}}$\n",
    "* Continuamente Compuesto: $\\text{DF}=\\frac{1}{(e^{rt})}$\n",
    "\n",
    "con $p$ numero de periodos por año y $t$ tiempo en años. Hagamos entonces un programa que grafique este factor a lo largo de diez años para cada uno, entregados los valores correspondientes:"
   ]
  },
  {
   "cell_type": "code",
   "execution_count": 1,
   "metadata": {},
   "outputs": [],
   "source": [
    "# Imports para graficar y matematica \n",
    "import matplotlib.pyplot as plt\n",
    "import numpy as np"
   ]
  },
  {
   "cell_type": "code",
   "execution_count": 29,
   "metadata": {},
   "outputs": [],
   "source": [
    "# Definimos las funciones de factores de descuento\n",
    "def i_simple(r,t): return 1/(1+r*t)\n",
    "def i_compuesto(r,p,t): return 1/(1+(r/p))**(p*t)\n",
    "def i_cont_compuesto(r,t): return 1/(np.e**(r*t))\n",
    "\n",
    "# Y los ploters\n",
    "def plot_simple(r):\n",
    "    ts = np.arange(0,10,0.001)\n",
    "    dfs = i_simple(r,ts)\n",
    "    fig, ax = plt.subplots()\n",
    "    handles, labels = ax.get_legend_handles_labels()\n",
    "    ax.legend(handles, labels)\n",
    "\n",
    "    ax_dfs = ax.plot(ts, dfs, color='purple', label='r = {}'.format(r))\n",
    "    ax.legend(handles=ax_dfs, prop={'size': 13})\n",
    "    ax.set_title('Factor de Descuento para Interes Simple')\n",
    "    ax.set_ylabel('Factor de Descuento DF')\n",
    "    ax.set_xlabel('Tiempo en años t')\n",
    "    plt.show()\n",
    "\n",
    "def plot_compuesto(r,p):\n",
    "    ts = np.arange(0,10,0.001)\n",
    "    dfs = i_compuesto(r,p,ts)\n",
    "    fig, ax = plt.subplots()\n",
    "    handles, labels = ax.get_legend_handles_labels()\n",
    "    ax.legend(handles, labels)\n",
    "\n",
    "    ax_dfs = ax.plot(ts, dfs, color='purple', label='r = {}, p = {}'.format(r,p))\n",
    "    ax.legend(handles=ax_dfs, prop={'size': 13})\n",
    "    ax.set_title('Factor de Descuento para Interes Compuesto')\n",
    "    ax.set_ylabel('Factor de Descuento DF')\n",
    "    ax.set_xlabel('Tiempo en años t')\n",
    "    plt.show()\n",
    "\n",
    "def plot_cont_compuesto(r):\n",
    "    ts = np.arange(0,10,0.001)\n",
    "    dfs = i_cont_compuesto(r,ts)\n",
    "    fig, ax = plt.subplots()\n",
    "    handles, labels = ax.get_legend_handles_labels()\n",
    "    ax.legend(handles, labels)\n",
    "\n",
    "    ax_dfs = ax.plot(ts, dfs, color='blue', label='r = {}'.format(r))\n",
    "    ax.legend(handles=ax_dfs, prop={'size': 13})\n",
    "    ax.set_title('Factor de Descuento para Interes Continuamente Compuesto')\n",
    "    ax.set_ylabel('Factor de Descuento DF')\n",
    "    ax.set_xlabel('Tiempo en años t')\n",
    "    plt.show()\n",
    "\n",
    "# función principal del programa \n",
    "def main():\n",
    "    print('Por favor seleccione el tipo de interes que desea simular:')\n",
    "    print('1) Interes Simple')\n",
    "    print('2) Interes Compuesto')\n",
    "    print('3) Interes Continuamente Compuesto')\n",
    "    x = input('')\n",
    "    if x not in ['1','2','3']: \n",
    "        print('Selección invalida... Pruebe de nuevo :P')\n",
    "        main()\n",
    "        return\n",
    "    while True:\n",
    "            try:\n",
    "                r = float(input('Digite la taza deseada: '))\n",
    "                break\n",
    "            except ValueError:\n",
    "                print(\"Este valor debe ser un numero! Pruebe de nuevo :P\")\n",
    "                pass\n",
    "    if x == '1' : plot_simple(r) \n",
    "    if x =='2':\n",
    "        while True:\n",
    "            try:\n",
    "                p = int(input('Digite el numero de particiones x año: '))\n",
    "                break\n",
    "            except ValueError:\n",
    "                print(\"Este valor debe ser un numero entero! Pruebe de nuevo :P\")\n",
    "                pass\n",
    "        plot_compuesto(r,p)\n",
    "    if x == '3': plot_cont_compuesto(r)\n",
    "    while True:\n",
    "        vuelta = input('Quiere simular otro DF? y/n: ')\n",
    "        if vuelta not in ['y','n']: \n",
    "            print('Selección invalida... Pruebe de nuevo :P')\n",
    "            continue\n",
    "        elif vuelta == 'n': \n",
    "            print('Understandable, have a nice day :)')\n",
    "        elif vuelta == 'y': \n",
    "            main()\n",
    "        return"
   ]
  },
  {
   "cell_type": "code",
   "execution_count": 30,
   "metadata": {},
   "outputs": [
    {
     "name": "stdout",
     "output_type": "stream",
     "text": [
      "Por favor seleccione el tipo de interes que desea simular:\n",
      "1) Interes Simple\n",
      "2) Interes Compuesto\n",
      "3) Interes Continuamente Compuesto\n",
      "2\n",
      "Digite la taza deseada: 4\n",
      "Digite el numero de particiones x año: 5\n"
     ]
    },
    {
     "data": {
      "image/png": "[encoded data removed]",
      "text/plain": [
       "<Figure size 432x288 with 1 Axes>"
      ]
     },
     "metadata": {
      "needs_background": "light"
     },
     "output_type": "display_data"
    },
    {
     "name": "stdout",
     "output_type": "stream",
     "text": [
      "Quiere simular otro DF? y/n: n\n",
      "Understandable, have a nice day :)\n"
     ]
    }
   ],
   "source": [
    "# Para correr el programa ejecute esta celda :)\n",
    "main()"
   ]
  },
  {
   "cell_type": "markdown",
   "metadata": {},
   "source": [
    "### Puntos Forward\n",
    "\n",
    "Como nos dice el enunciado, los puntos forward vienen dados por la expresión\n",
    "\n",
    "$$\\text{PF}_\\text{T}(t)=\\text{F}_\\text{T}(t)-S(t)$$, \n",
    "\n",
    "donde $\\text{F}_\\text{T}(t)$ es el precio del dolar a un plazo $T-t$ y $S(t)$ es el precio spot en $t$. Como vimos en clases, \n",
    "\n",
    "$$F=S(t)e^{(r_{\\text{CLP}}-r_{\\text{USD}})}e^{(T-t)}$ $\\quad\\longrightarrow\\quad$ $\\text{PF}_\\text{T}(t)=s(t)\\left(e^{(r_{\\text{CLP}}-r_{\\text{USD}})}e^{(T-t)}-1\\right)$$, \n",
    "\n",
    "donde $r_{\\text{CLP}}$ y $r_{\\text{USD}}$ son las tasas en pesos y dolares, respectivamente. Despejando $r_{\\text{USD}}$ de la igualdad anterior obtenemos; \n",
    "\n",
    "$$r_{\\text{USD}}=r_{\\text{CLP}}-\\frac{1}{(T-t)}\\ln{\\left(\\frac{\\text{PF}_\\text{T}(t)}{S(t)}+1\\right)}$$.\n",
    "\n",
    "Programemos un script que sea capaz de obtener la tasa en dolares a partir de los parametros especificados.\n"
   ]
  },
  {
   "cell_type": "code",
   "execution_count": 10,
   "metadata": {},
   "outputs": [],
   "source": [
    "# Definimos la función de taza en USD\n",
    "def r_usd(r_clp, pf, s, T, t): return r_clp-(1/(T-t))*np.log(pf/s+1)\n",
    "\n",
    "# Escribimos nuestro programa principal\n",
    "def main2():\n",
    "    while True:\n",
    "        try:\n",
    "            r_clp = float(input('Digite la tasa en pesos: '))\n",
    "            pf = float(input('Digite los puntos forward: '))\n",
    "            s = float(input('Digite la cantidad de capital inicial: '))\n",
    "            T = float(input('Digite la fecha de madurez en años: '))\n",
    "            t = float(input('Digite la fecha actual en años: '))\n",
    "            break\n",
    "        except ValueError: \n",
    "            print('NUMEROS MARIE! NUMEROS!')\n",
    "            print('Intente de nuevo... :P')\n",
    "            continue\n",
    "    r = r_usd(r_clp,pf,s,T,t)\n",
    "    print('La tasa del dolar resultante sería: r={:.4f}'.format(r))\n",
    "    while True:\n",
    "        vuelta = input('Quiere simular otra tasa? y/n: ')\n",
    "        if vuelta not in ['y','n']: \n",
    "            print('Selección invalida... Pruebe de nuevo :P')\n",
    "            continue\n",
    "        elif vuelta == 'n': \n",
    "            print('Understandable, have a nice day :)')\n",
    "        elif vuelta == 'y': \n",
    "            main2()\n",
    "        return"
   ]
  },
  {
   "cell_type": "code",
   "execution_count": 8,
   "metadata": {},
   "outputs": [
    {
     "name": "stdout",
     "output_type": "stream",
     "text": [
      "Digite la tasa en pesos: 0.3\n",
      "Digite los puntos forward: 10\n",
      "Digite la cantidad de capital inicial: 1000\n",
      "Digite la fecha de madurez en años: 10\n",
      "Digite la fecha actual en años: 1\n",
      "La tasa del dolar resultante sería: $r=0.2989$\n"
     ]
    }
   ],
   "source": [
    "main2()"
   ]
  }
 ],
 "metadata": {
  "kernelspec": {
   "display_name": "Python 3 (ipykernel)",
   "language": "python",
   "name": "python3"
  },
  "language_info": {
   "codemirror_mode": {
    "name": "ipython",
    "version": 3
   },
   "file_extension": ".py",
   "mimetype": "text/x-python",
   "name": "python",
   "nbconvert_exporter": "python",
   "pygments_lexer": "ipython3",
   "version": "3.9.12"
  }
 },
 "nbformat": 4,
 "nbformat_minor": 2
}
