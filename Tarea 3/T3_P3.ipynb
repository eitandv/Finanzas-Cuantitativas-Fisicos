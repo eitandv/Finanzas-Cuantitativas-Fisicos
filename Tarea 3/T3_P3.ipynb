{
 "cells": [
  {
   "cell_type": "code",
   "execution_count": 2,
   "metadata": {},
   "outputs": [],
   "source": [
    "import numpy as np                           # Útil para procesos matemáticos \n",
    "from scipy.integrate import quad             # Útil para integrar numericamente\n",
    "from scipy.optimize import fsolve            # Resuelve ecuaciónes numericamente\n",
    "import matplotlib.pyplot as plt              # Plotting "
   ]
  },
  {
   "cell_type": "code",
   "execution_count": 3,
   "metadata": {},
   "outputs": [
    {
     "data": {
      "image/png": "[encoded data removed]",
      "text/plain": [
       "<Figure size 432x288 with 1 Axes>"
      ]
     },
     "metadata": {
      "needs_background": "light"
     },
     "output_type": "display_data"
    }
   ],
   "source": [
    "# Codigo que aproxima $sigma$ para opción call Europea\n",
    "# Seteamos valores enunciado\n",
    "s = 101.5\n",
    "e = 100\n",
    "delta_t = 1/3\n",
    "r = 0.08\n",
    "v = 6.51\n",
    "\n",
    "# definimos funciones d's, N y valor\n",
    "def d1(x): return (np.log(s/e)+(r+0.5*(x**2))*delta_t)/(x*np.sqrt(delta_t))\n",
    "def d2(x): return (np.log(s/e)+(r-0.5*(x**2))*delta_t)/(x*np.sqrt(delta_t))\n",
    "def integrand_N(x): return (1/np.sqrt(2*np.pi))*np.e**(-(x**2)/2)\n",
    "def N(x): \n",
    "    integral,err = quad(integrand_N, -np.infty, x) \n",
    "    return integral\n",
    "def value(x): \n",
    "    return s*N(d1(x))-e*N(d2(x))*np.e**(-r*delta_t)\n",
    "\n",
    "# Ploteamos la función de diferencia para encontrar el punto donde es 0\n",
    "def func(x):\n",
    "    return v-value(x)\n",
    "\n",
    "vfunc = np.vectorize(func)\n",
    "\n",
    "f = np.arange(0.01, 0.5, 0.001)\n",
    "plt.plot(f, vfunc(f))\n",
    "plt.show()"
   ]
  },
  {
   "cell_type": "code",
   "execution_count": 4,
   "metadata": {},
   "outputs": [
    {
     "name": "stdout",
     "output_type": "stream",
     "text": [
      "Obtenemos un $\\sigma$=0.17994800000002995 con un error porcentual de 9.487236879017376e-05%\n"
     ]
    }
   ],
   "source": [
    "# El punto que buscamos esta entre 0.15 y 0.2\n",
    "# Calculamos soluciones y error porcentual, seleccionando la con menor error\n",
    "def porcentual_err(val, expected_val):\n",
    "    return np.abs(val-expected_val)*100/expected_val\n",
    "\n",
    "guesses = np.arange(0.15, 0.2 , 0.000001)\n",
    "sols = [(porcentual_err(value(g), v),g) for g in guesses]\n",
    "sols.sort()\n",
    "err, sigma = sols[0]\n",
    "\n",
    "\n",
    "print(r'Obtenemos un $\\sigma$={} con un error porcentual de {}%'.format(sigma,err))"
   ]
  }
 ],
 "metadata": {
  "kernelspec": {
   "display_name": "Python 3",
   "language": "python",
   "name": "python3"
  },
  "language_info": {
   "codemirror_mode": {
    "name": "ipython",
    "version": 3
   },
   "file_extension": ".py",
   "mimetype": "text/x-python",
   "name": "python",
   "nbconvert_exporter": "python",
   "pygments_lexer": "ipython3",
   "version": "3.9.1"
  },
  "orig_nbformat": 4
 },
 "nbformat": 4,
 "nbformat_minor": 2
}
