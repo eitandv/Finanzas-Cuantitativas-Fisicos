{
 "cells": [
  {
   "cell_type": "code",
   "execution_count": 1,
   "metadata": {},
   "outputs": [],
   "source": [
    "# Acá van las librerías que vamos a ocupar :)\n",
    "import csv\n",
    "from tqdm import tqdm                        # Para hacer funcionar barras de progreso\n",
    "import numpy as np                           # Útil para procesos matemáticos\n",
    "from sympy import *                          # Útil para calcular derivadas \n",
    "import matplotlib.pyplot as plt              # Plotting \n",
    "from scipy.stats import norm                 # Útil para calcular distribución acumulada normal"
   ]
  },
  {
   "cell_type": "markdown",
   "metadata": {},
   "source": [
    "## Proyecto Tarea 6\n",
    "\n",
    "En este proyecto implementaremos la materia vista en manejo de portafolios de riesgo óptimo. Se nos entrega $\\mu$ y $\\sigma$ de 4 assets distintos denominados A, B, C y D, junto a una matriz de correlación entre cada uno de ellos, que obviamente es diagonal ya que la correlación entre A y B es igual a la correlación entre B y A. \n",
    "\n",
    "### a) Frontera Eficiente\n",
    "\n",
    "En esta parte debemos escribir un programa que calcule la frontera eficiente de nuestro portafolio. Según lo visto en clases, dado un portafolio compuesto por $N$ assets, cada uno con su propio retorno $\\mu_i$ y riesgo $\\sigma_i$. Cada asset tendra un peso $W_i$ correspondiente a la fracción del total que representa y cada par tendra una correlación $\\rho_{ij}$. Con estos datos, podemos calcular el retorno y riesgo del portafolio:\n",
    "\n",
    "$$ \\mu_\\Pi = \\sum_{i=1}^N W_i\\mu_i,$$\n",
    "$$ \\sigma_\\Pi = \\sqrt{\\sum_{i=1}^N\\sum_{j=1}^N W_iW_j\\rho_{ij}\\sigma_i\\sigma_j}.$$\n",
    "\n",
    "La frontera corresponderá a la curva $\\mu_\\Pi$ vs $\\sigma_\\Pi$ que tenga mayor retorno, dado un riesgo definido. Nuestro deber entonces es encontrar el valor óptimo para los pesos. Esto se podría hacer mediante inteligencia artificial con una red neuronal de dos outputs y 4 inputs, pero quién tiene tiempo para esto al final del semestre? Ergó, como son solo 4 inputs procedo a generar todos los resultados posibles y identificar el $\\mu$ óptimo para cada valor posible de $\\sigma$ :)"
   ]
  },
  {
   "cell_type": "code",
   "execution_count": 2,
   "metadata": {},
   "outputs": [],
   "source": [
    "# Partimos definiendo datos entregados:\n",
    "# promedios y desviaciones assets en forma asset : (mu, epsilon)\n",
    "assets_data = {'A': (0.08, 0.12), 'B': (0.1, 0.12), 'C': (0.10, 0.15), 'D': (0.14, 0.2)}\n",
    "assets = assets_data.keys()\n",
    "\n",
    "# Definimos pesos inciales iguales para todos\n",
    "w_assets = {}\n",
    "for a in assets: w_assets[a] = 1/len(assets)\n",
    "\n",
    "# matriz de correlacion\n",
    "rho = np.array([[1,0.2,0.5,0.3],[0.2,1,0.7,0.4],[0.5,0.7,1,0.9],[0.3,0.4,0.9,1]])\n",
    "\n",
    "# Definimos funciónes de portafolio:\n",
    "# Retorno de portafolio\n",
    "def mu_pi(assets, assets_data, w_assets):\n",
    "    mu = 0\n",
    "    for a in assets:\n",
    "        mu += w_assets[a]*assets_data[a][0]\n",
    "    return mu\n",
    "\n",
    "# Riesgo del portafolio\n",
    "def sigma_pi(assets, assets_data, w_assets, rho=rho):\n",
    "    assets = [a for a in assets]\n",
    "    sigma = 0\n",
    "    for a in assets:\n",
    "        for b in assets:\n",
    "            sigma += w_assets[a]*w_assets[b]*rho[assets.index(a)][assets.index(b)]*assets_data[a][1]*assets_data[b][1]\n",
    "    return np.sqrt(sigma)"
   ]
  },
  {
   "cell_type": "markdown",
   "metadata": {},
   "source": [
    "Debemos generar todos los pesos posibles sujetos a la restricción $\\sum_i W_i=1$. Para esto voy a ser bruto y generar todos los pesos posibles dada cierta precision de 0 a 1, generar todas las combinaciones posibles entre ellos y filtrar las combinaciones que cumplan este constraint. No es la mejor manera, pero python goes brrrr."
   ]
  },
  {
   "cell_type": "code",
   "execution_count": 3,
   "metadata": {},
   "outputs": [
    {
     "name": "stderr",
     "output_type": "stream",
     "text": [
      "  0%|          | 0/201 [00:00<?, ?it/s]"
     ]
    },
    {
     "name": "stderr",
     "output_type": "stream",
     "text": [
      "100%|██████████| 201/201 [13:56<00:00,  4.16s/it]\n"
     ]
    }
   ],
   "source": [
    "# Todas las posibles combinaciones entre pesos\n",
    "# t = 15 min para 0.005 puntos x peso  \n",
    "def all_possible_w_combs(assets):\n",
    "    assets = [a for a in assets]\n",
    "    ws = np.arange(0,1.005,0.005) #Para probar el codigo pueden cambiar 0.005 -> 0.01\n",
    "    # Lord forgive me...\n",
    "    return [{assets[0]:w1,assets[1]:w2,assets[2]:w3,assets[3]:w4} for w1 in tqdm(ws) for w2 in ws for w3 in ws for w4 in ws if w1+w2+w3+w4==1]\n",
    "\n",
    "all_w_combs = all_possible_w_combs(assets)"
   ]
  },
  {
   "cell_type": "code",
   "execution_count": 4,
   "metadata": {},
   "outputs": [
    {
     "name": "stderr",
     "output_type": "stream",
     "text": [
      "100%|██████████| 1311367/1311367 [03:56<00:00, 5541.15it/s]\n"
     ]
    }
   ],
   "source": [
    "# Calculamos mus y sigmas para estos pesos (t = 4 min approx):\n",
    "mu_sigs_w = [(mu_pi(assets,assets_data,ws),sigma_pi(assets,assets_data,ws),[w for w in ws.values()]) for ws in all_w_combs]\n",
    "\n",
    "mus = [mu[0] for mu in mu_sigs_w]\n",
    "sigs = [sig[1] for sig in mu_sigs_w]\n",
    "\n",
    "# encontramos el mayor mu para cada sigma generado\n",
    "def best_mu_for_sig(mu_sigs_w):\n",
    "    best = {}\n",
    "    i = 0\n",
    "    len_mu_sigs = len(mu_sigs_w)\n",
    "    for d in tqdm(mu_sigs_w):\n",
    "       i += 1\n",
    "       if not best: \n",
    "          best[d[1]] = (d[0],d[2])\n",
    "          continue\n",
    "       sig = d[1]\n",
    "       closest = min([k for k in best.keys()], key=lambda x:abs(x-sig))\n",
    "       if np.abs(closest - d[1]) >= 0.0001: best[d[1]] = (d[0],d[2])\n",
    "       else: \n",
    "           if d[0] >= best[closest][0]: best[closest] = (d[0],d[2])\n",
    "    best_points = [(k[1][0], k[0], k[1][1]) for k in best.items()]\n",
    "    return best_points\n",
    "\n",
    "best_points = best_mu_for_sig(mu_sigs_w)\n",
    "best_mus = [p[0] for p in best_points]\n",
    "best_sigs = [p[1] for p in best_points]\n",
    "best_pesos = [p[2] for p in best_points]"
   ]
  },
  {
   "cell_type": "code",
   "execution_count": 8,
   "metadata": {},
   "outputs": [
    {
     "name": "stderr",
     "output_type": "stream",
     "text": [
      "c:\\Users\\Eitan\\AppData\\Local\\Programs\\Python\\Python39\\lib\\site-packages\\IPython\\core\\interactiveshell.py:3437: RankWarning: Polyfit may be poorly conditioned\n",
      "  exec(code_obj, self.user_global_ns, self.user_ns)\n"
     ]
    }
   ],
   "source": [
    "# Fit de curva para los puntos óptimos \n",
    "fit_values = np.polyfit(best_sigs,  best_mus, 24)\n",
    "\n",
    "def fit_mu(t, fit=fit_values):\n",
    "    polynomial = np.poly1d(fit)\n",
    "    return  polynomial(t)\n",
    "\n",
    "def derivative_fit_mu(t, fit=fit_values):\n",
    "    polynomial = np.poly1d(fit).deriv(m=1)\n",
    "    return  polynomial(t)"
   ]
  },
  {
   "cell_type": "code",
   "execution_count": 9,
   "metadata": {},
   "outputs": [
    {
     "data": {
      "text/plain": [
       "Text(0, 0.5, '$\\\\mu_\\\\Pi$')"
      ]
     },
     "execution_count": 9,
     "metadata": {},
     "output_type": "execute_result"
    },
    {
     "data": {
      "image/png": "[encoded data removed]",
      "text/plain": [
       "<Figure size 468x360 with 1 Axes>"
      ]
     },
     "metadata": {
      "needs_background": "light"
     },
     "output_type": "display_data"
    }
   ],
   "source": [
    "fig, ax = plt.subplots(figsize=(6.5,5))\n",
    "handles, labels = ax.get_legend_handles_labels()\n",
    "ax.legend(handles, labels)\n",
    "              \n",
    "ax_all = ax.scatter(sigs, mus, s=.05, label='All Possible Combinations')\n",
    "ax_best = ax.scatter(best_sigs, best_mus, s=5, color='green', label='Best Combinations')\n",
    "ax_fit, = ax.plot(np.arange(0.093,0.2,0.001), [fit_mu(s) for s in np.arange(0.093,0.2,0.001)], color='black', label=r'$\\mu(\\sigma)$ fit')\n",
    "\n",
    "ax.legend(handles=[ax_all, ax_best, ax_fit], prop={'size': 10})\n",
    "ax.set_xlabel(r'$\\sigma_\\Pi$', size=12)\n",
    "ax.set_ylabel(r'$\\mu_\\Pi$', size=12)"
   ]
  },
  {
   "cell_type": "markdown",
   "metadata": {},
   "source": [
    "Obtenemos entonces la frontera óptima resaltando los puntos de mayor eficiencia para cada partición de sigma y fiteando un polinomio de grado 24 (grado óptimo determinado por la función en el anéxo) para rellenar vacios.\n",
    "\n",
    "Dado esta podemos determinar los pesos para cada activo dado un punto en la recta con un error insignificante. Basta con encontrar el punto generado más cercano dentro de la frontera y extraer los pesos correspondientes. Voy a generar un archivo ''puntos_frontera_optima.csv'' para que vean estos puntos."
   ]
  },
  {
   "cell_type": "code",
   "execution_count": 10,
   "metadata": {},
   "outputs": [],
   "source": [
    "with open('puntos_frontera_optima.csv', 'w') as f:\n",
    "    writer = csv.writer(f)\n",
    "    writer.writerow(['rentabilidad óptima', 'riesgo asociado', 'composicion de portafolio'])\n",
    "    for p in best_points:\n",
    "        writer.writerow([p[0],p[1],p[2]])"
   ]
  },
  {
   "cell_type": "markdown",
   "metadata": {},
   "source": [
    "### Parte b)\n",
    "\n",
    "Se nos pide encontrar donde debemos ubicarnos en la frontera eficiente, si es que queremos minimizar la probabilidad de tener un retorno menor a 5%. Para esto, basta con encontrar la recta tangente a la frontera que pase por la rentabilidad de 5% en riesgo 0. \n",
    "\n",
    "Matematicamente hablando, dada la función $f'(x)$ para nuestro fit y riesgo $r$,\n",
    "\n",
    "$$ m = f'(x) = \\frac{f(x)-r}{x-0} \\implies f(x)-r-f'(x)x=0 .$$\n",
    "\n",
    "Resolviendo para $(x, f(x))$ tendremos el punto de la frontera efficiente que corresponde a este riesgo. La ecuación de la tangente será:\n",
    "\n",
    "$$ y(t) = m(t-x)+f(x).$$"
   ]
  },
  {
   "cell_type": "code",
   "execution_count": 11,
   "metadata": {},
   "outputs": [
    {
     "name": "stdout",
     "output_type": "stream",
     "text": [
      "0.049998773751337725\n"
     ]
    }
   ],
   "source": [
    "# Encuentra el punto más cercano en la frontera a cualquier punto y sus pesos correspondientes\n",
    "def frontier_ws(point, frontier=best_points):\n",
    "    norms = [(np.linalg.norm(np.array([b[0],b[1]])-np.array(point)),b[2]) for b in frontier]\n",
    "    norms = sorted(norms)\n",
    "    return norms[0][1]\n",
    "\n",
    "# Encuentra valores de pendiente y displacement para la tangente dada una renta\n",
    "def tangent_vals(rent=0.05):\n",
    "    xs = np.arange(0.093,0.2,0.0001)\n",
    "    ys = sorted([(np.abs(derivative_fit_mu(tr)*tr-fit_mu(tr)+rent),tr) for tr in xs])\n",
    "    t1 = ys[0][1]\n",
    "    return (derivative_fit_mu(t1), t1)\n",
    "\n",
    "# Ecuación de la tangente usando los valores anteriores\n",
    "def tangent(t, m, t1):\n",
    "    return m*(t-t1)+fit_mu(t1)\n",
    "\n",
    "m,t1 = tangent_vals(rent=0.05)\n",
    "print(tangent(0, m, t1))"
   ]
  },
  {
   "cell_type": "code",
   "execution_count": 13,
   "metadata": {},
   "outputs": [
    {
     "name": "stderr",
     "output_type": "stream",
     "text": [
      "<ipython-input-13-d7ad3ddc499f>:11: UserWarning: You have used the `textcoords` kwarg, but not the `xytext` kwarg.  This can lead to surprising results.\n",
      "  ax.annotate(r\"$\\mu_p={:.4f}, \\sigma_p={:.4f}$\".format(t1,fit_mu(t1)), xy=(.65,.3),\n",
      "<ipython-input-13-d7ad3ddc499f>:15: UserWarning: You have used the `textcoords` kwarg, but not the `xytext` kwarg.  This can lead to surprising results.\n",
      "  ax.annotate(r\"$W_i$: $A={:.3f},\\, B={:.3f},\\, C={:.3f},\\, D={:.3f}$\".format(w1,w2,w3,w4), xy=(.8,.19),\n"
     ]
    },
    {
     "data": {
      "text/plain": [
       "Text(0, 0.5, '$\\\\mu_\\\\Pi$')"
      ]
     },
     "execution_count": 13,
     "metadata": {},
     "output_type": "execute_result"
    },
    {
     "data": {
      "image/png": "[encoded data removed]",
      "text/plain": [
       "<Figure size 468x360 with 1 Axes>"
      ]
     },
     "metadata": {
      "needs_background": "light"
     },
     "output_type": "display_data"
    }
   ],
   "source": [
    "fig, ax = plt.subplots(figsize=(6.5,5))\n",
    "handles, labels = ax.get_legend_handles_labels()\n",
    "ax.legend(handles, labels)\n",
    "              \n",
    "ax_fit, = ax.plot(np.arange(0.093,0.2,0.001), [fit_mu(s) for s in np.arange(0.093,0.2,0.001)], color='black', label=r'$\\mu(\\sigma)$ fit')\n",
    "ax_tan, = ax.plot(np.arange(0.093,0.2,0.001), [tangent(s, m, t1) for s in np.arange(0.093,0.2,0.001)], color='red', label=r'Tangent of 5% risk')\n",
    "\n",
    "circ = plt.Circle((t1, fit_mu(t1)), 0.001, color='b', fill=False, label='Intersection Point')\n",
    "ax.add_patch(circ)\n",
    "\n",
    "ax.annotate(r\"$\\mu_p={:.4f}, \\sigma_p={:.4f}$\".format(t1,fit_mu(t1)), xy=(.65,.3), \n",
    "            xycoords=\"figure fraction\", textcoords=\"axes fraction\",\n",
    "            bbox={'facecolor':'w','pad':5,'edgecolor':'blue'}, ha=\"right\", va=\"top\")\n",
    "w1,w2,w3,w4 = frontier_ws([t1,fit_mu(t1)])\n",
    "ax.annotate(r\"$W_i$: $A={:.3f},\\, B={:.3f},\\, C={:.3f},\\, D={:.3f}$\".format(w1,w2,w3,w4), xy=(.8,.19), \n",
    "            xycoords=\"figure fraction\", textcoords=\"axes fraction\",\n",
    "            bbox={'facecolor':'w','pad':5,'edgecolor':'blue'}, ha=\"right\", va=\"top\")\n",
    "\n",
    "ax.legend(handles=[ax_fit, ax_tan, circ], prop={'size': 10})\n",
    "ax.set_xlabel(r'$\\sigma_\\Pi$', size=12)\n",
    "ax.set_ylabel(r'$\\mu_\\Pi$', size=12)"
   ]
  },
  {
   "cell_type": "markdown",
   "metadata": {},
   "source": [
    "En este último gráfico vemos la tangente a la curva fiteada que corta el eje del retorno en 5% para riesgo 0. El punto encerrado corresponde a donde debemos ubicarnos para minimizar la probabilidad de tener un retorno menor a este valor. \n",
    "\n",
    "Se despliega tanto el riesgo como el retorno de dicho punto, a su vez los pesos de composición de assets A,B,C y D necesarios para situarnos en dicho punto. Podría aumentar la precisión de estos generando más puntos en torno a estos y viendo aquellos que se ubiquen en la frontera de retorno, pero el error es pequeño. "
   ]
  },
  {
   "cell_type": "markdown",
   "metadata": {},
   "source": [
    "### Parte c)\n",
    "\n",
    "Debemos determinar el VaR anual para el portafolio encontrado en (b), a 95% de confianza. Para esto, usamos la formula vista en clases:\n",
    "\n",
    "$$ \\text{VaR} = \\Delta S(\\mu\\delta t-\\sigma\\delta t^{1/2}\\alpha(1-c)), $$\n",
    "\n",
    "con $\\Delta S = 1$ siendo el valor de la cantidad invertida en el portafolio, $\\delta t=1$ el tiempo y $\\alpha$ la distribución acumulada, inversa a la distribución normal y $c=0.95$ la confianza. "
   ]
  },
  {
   "cell_type": "code",
   "execution_count": 16,
   "metadata": {},
   "outputs": [
    {
     "name": "stdout",
     "output_type": "stream",
     "text": [
      "El VaR anual para una confianza de 95% es -7.5% del capital total.\n"
     ]
    }
   ],
   "source": [
    "var = fit_mu(t1)-t1*norm.ppf(0.95)\n",
    "print(r'El VaR anual para una confianza de 95% es {:.1f}% del capital total.'.format(100*var))"
   ]
  },
  {
   "cell_type": "markdown",
   "metadata": {},
   "source": [
    "## Anexo: Funciones Citadas"
   ]
  },
  {
   "cell_type": "code",
   "execution_count": null,
   "metadata": {},
   "outputs": [],
   "source": [
    "# Función para encontrar grado óptimo de fiteo (Gracias Chat GPT :P)\n",
    "# Con esta función encontre el grado del polinomio a ajustar en a) \n",
    "from sklearn.metrics import mean_squared_error\n",
    "from sklearn.model_selection import train_test_split\n",
    "\n",
    "def best_degree(x, y, max_degree=15):\n",
    "    \"\"\"\n",
    "    Given x, y values return the best degree for polynomial fit\n",
    "    :param x: x values\n",
    "    :param y: y values\n",
    "    :param max_degree: maximum degree to consider for the polynomial\n",
    "    :return: best degree\n",
    "    \"\"\"\n",
    "    # Train-test split\n",
    "    x_train, x_test, y_train, y_test = train_test_split(x, y, test_size=0.3, random_state=42)\n",
    "\n",
    "    # Initialize variables\n",
    "    best_degree = 0\n",
    "    best_mse = np.inf\n",
    "\n",
    "    # Try different degrees\n",
    "    for degree in range(1, max_degree+1):  # range could be adjusted based on specific requirements\n",
    "        # Fit the polynomial on train data\n",
    "        coefficients = np.polyfit(x_train, y_train, degree)\n",
    "\n",
    "        # Use the coefficients to create a polynomial function\n",
    "        polynomial = np.poly1d(coefficients)\n",
    "\n",
    "        # Generate y values for fitted function on test data\n",
    "        y_poly = polynomial(x_test)\n",
    "\n",
    "        # Compute mean squared error\n",
    "        mse = mean_squared_error(y_test, y_poly)\n",
    "\n",
    "        # If current degree gives lower error, update best degree and best mse\n",
    "        if mse < best_mse:\n",
    "            best_degree = degree\n",
    "            best_mse = mse\n",
    "\n",
    "    return best_degree\n",
    "\n",
    "\n",
    "print(\"Best degree: \", best_degree(best_sigs, best_mus, max_degree=100))"
   ]
  }
 ],
 "metadata": {
  "kernelspec": {
   "display_name": "Python 3",
   "language": "python",
   "name": "python3"
  },
  "language_info": {
   "codemirror_mode": {
    "name": "ipython",
    "version": 3
   },
   "file_extension": ".py",
   "mimetype": "text/x-python",
   "name": "python",
   "nbconvert_exporter": "python",
   "pygments_lexer": "ipython3",
   "version": "3.9.1"
  },
  "orig_nbformat": 4
 },
 "nbformat": 4,
 "nbformat_minor": 2
}
