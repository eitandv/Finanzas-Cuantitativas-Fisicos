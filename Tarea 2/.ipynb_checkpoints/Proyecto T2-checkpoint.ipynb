{
 "cells": [
  {
   "cell_type": "markdown",
   "id": "f3681831",
   "metadata": {},
   "source": [
    "## Proyecto Tarea 2\n",
    "\n",
    "El objetivo de este proyecto es ver el valor de una opción call en todo momento usando el formalismo de la aproximación al modelo Binomial. \n",
    "\n",
    "Para este ejemplo, usamos las acciones de Tesla, tomando como precio inicial el closing del 10/04/2023, mientras que el precio de ejercicio será $E=0,9S_0$, con fecha de vencimiento el 10/10/2023. La tasa de interes será sin riesgo y de 10%, mientras que los periodos $\\delta t=1/$días habiles. \n",
    "\n",
    "a) \n",
    "Lo primero que debemos hacer es calcular la deriva historica anual, mediante el uso de la siguiente formula, vista en clases: \n",
    "\n",
    "$$\\mu=\\frac{1}{M\\delta t}\\sum_{i=1}^N R_i= \\frac{1}{N\\delta t}\\sum_{i=1}^N \\frac{S_{i+1}-S_{i}}{S_{i}},$$\n",
    "\n",
    "donde M es el numero de periodos o días habiles, $R_i$ es el retorno de cada día y $S_i$ será el valor de la acción en el día $i$. Por otro lado, la desviación estandar historica estaría dada por la siguiente expresión, támbien vista en clases: \n",
    "\n",
    "$$ \\sigma=\\sqrt{\\frac{1}{(M-1)\\delta t}\\sum_{i=1}^N (R_i-\\bar{R})^2} $$\n",
    "\n",
    "\n",
    "Donde $\\bar{R}$ corresponde a la media del retorno. Realizemos, entonces, el cálculo de estas variables para los datos de TSLA entregados. "
   ]
  },
  {
   "cell_type": "code",
   "execution_count": 2,
   "id": "db7deb32",
   "metadata": {},
   "outputs": [],
   "source": [
    "# Acá van las librerías que vamos a ocupar :)\n",
    "import csv                                   # Para leer archivo\n",
    "import numpy as np                           # Útil para procesos matemáticos \n",
    "import math\n",
    "from datetime import date as dt              # Para trabajar con fechas y diferencias de fechas \n",
    "from dateutil import relativedelta as rd\n",
    "import matplotlib.pyplot as plt              # Plotting \n",
    "import pickle                                # Guardar datos generados"
   ]
  },
  {
   "cell_type": "code",
   "execution_count": 3,
   "id": "75d6430c",
   "metadata": {},
   "outputs": [
    {
     "name": "stdout",
     "output_type": "stream",
     "text": [
      "Ejemplo d in data: {'Date': '2022-04-11', 'Open': '326.799988', 'High': '336.156677', 'Low': '324.880005', 'Close': '325.309998', 'Adj Close': '325.309998', 'Volume': '59357100'}\n",
      "Primera entrada considerada: {'Date': '2022-10-10', 'Open': '223.929993', 'High': '226.990005', 'Low': '218.360001', 'Close': '222.960007', 'Adj Close': '222.960007', 'Volume': '67925000'}\n"
     ]
    }
   ],
   "source": [
    "# Primero debemos cargar los archivos \n",
    "with open('TSLA.csv', 'r', encoding='utf-8') as file:\n",
    "    data = csv.DictReader(file)\n",
    "    data = [row for row in data] \n",
    "\n",
    "# data: Lista de entradas en el .csv en formato de diccionario, por ejemplo...\n",
    "print('Ejemplo d in data: {}'.format(data[0]))\n",
    "\n",
    "# Fecha a objeto date_time\n",
    "def str_to_dt(date): \n",
    "    date = date.split('-')\n",
    "    return dt(int(date[0]), int(date[1]), int(date[2]))\n",
    "\n",
    "# Función que checkea si la fecha esta dentro del rango deseado:\n",
    "def date_check(date, lim_date='2023-04-10'):\n",
    "    date = date.split('-')\n",
    "    date = dt(int(date[0]), int(date[1]), int(date[2]))\n",
    "    lim_date = lim_date.split('-')\n",
    "    lim_date = dt(int(lim_date[0]), int(lim_date[1]), int(lim_date[2]))\n",
    "    t_delta = rd.relativedelta(lim_date, date)\n",
    "    d_months = t_delta.months + t_delta.years*12\n",
    "    d_days = (lim_date - date).days\n",
    "    if d_months < 6: return (True, d_days)\n",
    "    elif d_months == 6 and t_delta.days == 0: return (True, d_days)\n",
    "    else: return (False, d_days)\n",
    "    \n",
    "# Filtramos los datos correspondientes a los 6 meses más recientes (desde la última entrada en el .csv).    \n",
    "data = [d for d in data if date_check(d['Date'])[0]]\n",
    "\n",
    "# Fecha desde la que trabajamos: \n",
    "print('Primera entrada considerada: {}'.format(data[0]))"
   ]
  },
  {
   "cell_type": "code",
   "execution_count": 4,
   "id": "98b23456",
   "metadata": {},
   "outputs": [
    {
     "name": "stdout",
     "output_type": "stream",
     "text": [
      "mu historico de TSLA últimos 6 meses: -0.031493477273816156\n",
      "sigma historico de TSLA últimos 6 meses: 0.29735111918194285\n"
     ]
    }
   ],
   "source": [
    "Delta_t = 1/len(data)\n",
    "def mu_hist(data):\n",
    "    work_days = len(data)\n",
    "    delta_t = Delta_t\n",
    "    sum_result = 0\n",
    "    for d in data: sum_result += (float(d['Close']) - float(d['Open']))/float(d['Open'])\n",
    "    return sum_result/(work_days*delta_t)\n",
    "\n",
    "def sigma_hist(data):\n",
    "    mu_h = mu_hist(data)\n",
    "    work_days = len(data)\n",
    "    delta_t = Delta_t\n",
    "    sum_result = 0\n",
    "    for d in data: sum_result += ((float(d['Close']) - float(d['Open']))/float(d['Open']) - mu_h)**2\n",
    "    return sum_result/((work_days-1)*delta_t)    \n",
    "\n",
    "mu_h = mu_hist(data)\n",
    "sigma_h = sigma_hist(data)\n",
    "print('mu historico de TSLA últimos 6 meses: {}'.format(mu_hist(data)))   \n",
    "print('sigma historico de TSLA últimos 6 meses: {}'.format(sigma_hist(data)))  "
   ]
  },
  {
   "cell_type": "markdown",
   "id": "4afca493",
   "metadata": {},
   "source": [
    "b) En este ítem nos piden determinar los precios para cada nodo hasta la fecha de ejercicio. Para esto, el método binomial nos indica que, dado un día $i$ con valor $S_i$, el dia siguiente $i+1$ tendrá uno de dos valores; $uS_i$ o $vS_i$, donde:\n",
    "\n",
    "$$ u = 1+\\sigma\\sqrt{\\delta t},\\\\ v= 1-\\sigma\\sqrt{\\delta t}.$$\n",
    "\n",
    "Al iterar esto a lo largo del periodo solicitado, obtendremos un arbol binario de resultados que desplegaremos a continuación, junto a los valores correspondientes para $u$ y $v$."
   ]
  },
  {
   "cell_type": "code",
   "execution_count": 5,
   "id": "5a0b345e",
   "metadata": {},
   "outputs": [
    {
     "name": "stdout",
     "output_type": "stream",
     "text": [
      "u: 1.0265958926270586\n",
      "v: 0.9734041073729414\n"
     ]
    }
   ],
   "source": [
    "u = 1+sigma_h*np.sqrt(Delta_t)\n",
    "v = 1-sigma_h*np.sqrt(Delta_t)\n",
    "print('u: {}'.format(u))\n",
    "print('v: {}'.format(v))"
   ]
  },
  {
   "cell_type": "code",
   "execution_count": 6,
   "id": "9239c714",
   "metadata": {},
   "outputs": [],
   "source": [
    "# Valor Inicial\n",
    "s0 = float(data[-1]['Close'])\n",
    "\n",
    "# Función encargada de generar todos los puntos para cada día \n",
    "# SIN REPETIR VALORES EL MISMO DÍA\n",
    "# Solo contamos los días laborales \n",
    "def bin_tree_points(f_inicio='2023-04-10', f_termino='2023-10-10', s0=s0, u=u, v=v):\n",
    "    f_inicio = str_to_dt(f_inicio)\n",
    "    f_termino = str_to_dt(f_termino)\n",
    "    days = np.busday_count(f_inicio, f_termino)\n",
    "    ts = np.arange(1, days, 1)\n",
    "    \n",
    "    outcomes = [[(0,s0)]]\n",
    "    for t in ts:\n",
    "        new_outcomes = []\n",
    "        for k in range(0, t+1): new_outcomes.append((t,s0*(u**k)*(v**(t-k))))\n",
    "        outcomes.append(new_outcomes)\n",
    "    return outcomes\n",
    "    \n",
    "points = bin_tree_points()"
   ]
  },
  {
   "cell_type": "code",
   "execution_count": 8,
   "id": "5ba8e903",
   "metadata": {},
   "outputs": [
    {
     "name": "stdout",
     "output_type": "stream",
     "text": [
      "Progress: 0/3\r",
      "Progress: 1/3\r",
      "Progress: 2/3\r",
      "Progress: 3/3\r"
     ]
    },
    {
     "data": {
      "text/plain": [
       "{0: {'id': 0, 's': 184.790695, 'time': 0, 'father': None},\n",
       " 1: {'id': 1, 's': 189.70536848269955, 'time': 1, 'father': 0},\n",
       " 2: {'id': 2, 's': 179.87602151730044, 'time': 1, 'father': 0},\n",
       " 3: {'id': 3, 's': 194.75075209364203, 'time': 2, 'father': 1},\n",
       " 4: {'id': 4, 's': 184.65998487175708, 'time': 2, 'father': 1},\n",
       " 5: {'id': 5, 's': 184.65998487175705, 'time': 2, 'father': 2},\n",
       " 6: {'id': 6, 's': 175.09205816284384, 'time': 2, 'father': 2},\n",
       " 7: {'id': 7, 's': 199.93032218536345, 'time': 3, 'father': 3},\n",
       " 8: {'id': 8, 's': 189.57118200192062, 'time': 3, 'father': 3},\n",
       " 9: {'id': 9, 's': 189.5711820019206, 'time': 3, 'father': 4},\n",
       " 10: {'id': 10, 's': 179.74878774159356, 'time': 3, 'father': 4},\n",
       " 11: {'id': 11, 's': 189.57118200192056, 'time': 3, 'father': 5},\n",
       " 12: {'id': 12, 's': 179.74878774159353, 'time': 3, 'father': 5},\n",
       " 13: {'id': 13, 's': 179.74878774159353, 'time': 3, 'father': 6},\n",
       " 14: {'id': 14, 's': 170.43532858409415, 'time': 3, 'father': 6}}"
      ]
     },
     "execution_count": 8,
     "metadata": {},
     "output_type": "execute_result"
    }
   ],
   "source": [
    "# NO CORRER!!!\n",
    "# Esta función generaría el grapho entero \n",
    "###\n",
    "def bin_tree_graph(f_inicio='2023-04-10', f_termino='2023-10-10', s0=s0, u=u, v=v):\n",
    "    f_inicio = str_to_dt(f_inicio)\n",
    "    f_termino = str_to_dt(f_termino)\n",
    "    days = np.busday_count(f_inicio, f_termino)\n",
    "    days = 3 # Ejemplo Para no matar el computador, recomendación: no superar 20!\n",
    "    ts = np.arange(1, days+1, 1)\n",
    "    \n",
    "    root = {0:{'id':0, 's':s0, 'time':0, 'father': None}}\n",
    "    def recursive_builder(outcomes=root, recent_outcomes=root, time=0, last_id=0):\n",
    "        # Paramos la función cuando hayamos generado todos los días \n",
    "        print('Progress: {}/{}'.format(time, days),end=\"\\r\")\n",
    "        if time == days:\n",
    "            return outcomes\n",
    "        # Generamos los nodos nuevos en t=t+1\n",
    "        new_outcomes={}\n",
    "        for ro in recent_outcomes.values(): \n",
    "            new_outcomes[last_id+1]={'id':last_id+1, 's':ro['s']*u, 'time':time+1, 'father': ro['id']}\n",
    "            new_outcomes[last_id+2]={'id':last_id+2, 's':ro['s']*v, 'time':time+1, 'father': ro['id']}\n",
    "            last_id += 2\n",
    "        outcomes.update(new_outcomes)\n",
    "        # Volvemos a iterar\n",
    "        return recursive_builder(outcomes=outcomes, recent_outcomes=new_outcomes, time=time+1, last_id=last_id)\n",
    "    # Llamamos la función recursiva\n",
    "    return recursive_builder()     \n",
    "###\n",
    "\n",
    "graph = bin_tree_graph()\n",
    "graph"
   ]
  },
  {
   "cell_type": "code",
   "execution_count": 6,
   "id": "c8b6b902",
   "metadata": {},
   "outputs": [
    {
     "data": {
      "image/png": "[encoded data removed]",
      "text/plain": [
       "<Figure size 432x288 with 1 Axes>"
      ]
     },
     "metadata": {
      "needs_background": "light"
     },
     "output_type": "display_data"
    }
   ],
   "source": [
    "# Gráfiquemos en un scatter plot\n",
    "x = [p[0] for p in points]\n",
    "y = [p[1] for p in points]\n",
    "\n",
    "\n",
    "fig, ax = plt.subplots()\n",
    "handles, labels = ax.get_legend_handles_labels()\n",
    "ax.legend(handles, labels)\n",
    "\n",
    "ax.scatter(x,y, s=1)\n",
    "ax.set_title('Aproximación Binomial de acción TSLA desde 2023-04-10 a 2023-10-10')\n",
    "ax.set_ylabel('Precio del nodo')\n",
    "ax.set_xlabel('Días desde fecha inicial')\n",
    "plt.show()"
   ]
  },
  {
   "cell_type": "markdown",
   "id": "1e3ac223",
   "metadata": {},
   "source": [
    "c) Recordando lo visto en clases, si ahora queremos calcular el valor de una opción call, el valor $V$ de una opción en $t$ vendría dado por\n",
    "\n",
    "$$ V= \\frac{1}{1+r\\delta t}(pV^+ + (1-p)V^-),$$\n",
    "\n",
    "donde los valores $V^+$ y $V^-$ corresponden a el posible valor mayor y menor de la acción al día siguiante, que calculamos en el item anterior. $p$ corresponde a la probabilidad ficcticia de un mundo sin riesgo, tal que \n",
    "\n",
    "$$p=\\frac{1}{2}+\\frac{r\\sqrt{\\delta t}}{2\\sigma}.$$\n",
    "\n",
    "Como en este caso queremos modelar una opción call, diremos que su valor será igual a \n",
    "\n",
    "$$ V(S,T)=\\textit{max}(S-E,0),$$\n",
    "\n",
    "donde el precio de ejercicio será $E=0,9S_0$ y la tasa de interes $r=0.1$ vienen dados por el enunciado, y $S$ será el valor de la acción en el día del ejercicio. Partiendo desde los ultimos nodos, podemos llegar al valor actual. "
   ]
  },
  {
   "cell_type": "code",
   "execution_count": null,
   "id": "202aea23",
   "metadata": {},
   "outputs": [],
   "source": []
  }
 ],
 "metadata": {
  "kernelspec": {
   "display_name": "Python 3",
   "language": "python",
   "name": "python3"
  },
  "language_info": {
   "codemirror_mode": {
    "name": "ipython",
    "version": 3
   },
   "file_extension": ".py",
   "mimetype": "text/x-python",
   "name": "python",
   "nbconvert_exporter": "python",
   "pygments_lexer": "ipython3",
   "version": "3.9.1"
  }
 },
 "nbformat": 4,
 "nbformat_minor": 5
}
