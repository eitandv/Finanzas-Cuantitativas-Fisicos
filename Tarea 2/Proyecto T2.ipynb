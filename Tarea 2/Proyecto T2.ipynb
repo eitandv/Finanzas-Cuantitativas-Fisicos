{
 "cells": [
  {
   "cell_type": "markdown",
   "id": "f3681831",
   "metadata": {},
   "source": [
    "## Proyecto Tarea 2\n",
    "\n",
    "El objetivo de este proyecto es ver el valor de una opción call en todo momento usando el formalismo de la aproximación al modelo Binomial. \n",
    "\n",
    "Para este ejemplo, usamos las acciones de Tesla, tomando como precio inicial el closing del 10/04/2023, mientras que el precio de ejercicio será $E=0,9S_0$, con fecha de vencimiento el 10/10/2023. La tasa de interes será sin riesgo y de 10%, mientras que los periodos $\\delta t=1$ día. \n",
    "\n",
    "Lo primero que debemos hacer es calcular la deriva historica anual, mediante el uso de la siguiente formula, vista en clases: \n",
    "\n",
    "$$\\mu=\\frac{1}{N\\delta t}\\sum_{i=1}^N R_i= \\frac{1}{N\\delta t}\\sum_{i=1}^N \\frac{S_{i+1}-S_{i}}{S_{i}},$$\n",
    "\n",
    "donde N es el numero de periodos o dias, $R_i$ es el retorno de cada día y $S_i$ será el valor de la acción en el día $i$. Realizemos, entonces, el cálculo de esta variable. "
   ]
  },
  {
   "cell_type": "code",
   "execution_count": 1,
   "id": "db7deb32",
   "metadata": {},
   "outputs": [],
   "source": [
    "# Acá van las librerías que vamos a ocupar :)\n",
    "import csv"
   ]
  },
  {
   "cell_type": "code",
   "execution_count": 18,
   "id": "75d6430c",
   "metadata": {},
   "outputs": [
    {
     "data": {
      "text/plain": [
       "{'Date': '2022-04-11',\n",
       " 'Open': '326.799988',\n",
       " 'High': '336.156677',\n",
       " 'Low': '324.880005',\n",
       " 'Close': '325.309998',\n",
       " 'Adj Close': '325.309998',\n",
       " 'Volume': '59357100'}"
      ]
     },
     "execution_count": 18,
     "metadata": {},
     "output_type": "execute_result"
    }
   ],
   "source": [
    "# Primero debemos cargar los archivos \n",
    "with open('TSLA.csv', 'r', encoding='utf-8') as file:\n",
    "    data = csv.DictReader(file)\n",
    "    data = [row for row in data] \n",
    "    \n",
    "data[0]"
   ]
  },
  {
   "cell_type": "code",
   "execution_count": null,
   "id": "98b23456",
   "metadata": {},
   "outputs": [],
   "source": []
  }
 ],
 "metadata": {
  "kernelspec": {
   "display_name": "Python 3 (ipykernel)",
   "language": "python",
   "name": "python3"
  },
  "language_info": {
   "codemirror_mode": {
    "name": "ipython",
    "version": 3
   },
   "file_extension": ".py",
   "mimetype": "text/x-python",
   "name": "python",
   "nbconvert_exporter": "python",
   "pygments_lexer": "ipython3",
   "version": "3.9.12"
  }
 },
 "nbformat": 4,
 "nbformat_minor": 5
}
